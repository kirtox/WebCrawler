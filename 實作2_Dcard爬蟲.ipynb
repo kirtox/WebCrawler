{
 "cells": [
  {
   "cell_type": "markdown",
   "metadata": {},
   "source": [
    "# Web Crawler "
   ]
  },
  {
   "cell_type": "markdown",
   "metadata": {},
   "source": [
    "## 實作2: Dcard爬蟲"
   ]
  },
  {
   "cell_type": "code",
   "execution_count": null,
   "metadata": {},
   "outputs": [],
   "source": [
    "### 以Dcard梗圖板為例 : https://www.dcard.tw/f/meme"
   ]
  },
  {
   "cell_type": "markdown",
   "metadata": {},
   "source": [
    "### 以Dcard寵物板為例 : https://www.dcard.tw/f/pet"
   ]
  },
  {
   "cell_type": "markdown",
   "metadata": {},
   "source": [
    "## 程式碼撰寫邏輯\n",
    "    1. 先以寵物版首頁將所以文章連結爬下來存到list裡，那就會考慮到瀏覽器往下滑換頁，所以要送一個GET\n",
    "    2. 從list將連結一個一個取出來組合成正確的網址，並GET下來，尋找圖片的標籤\n",
    "    3. 如果有圖片的標籤就在本地端新增檔案，並將圖片存檔\n",
    "    4. 將每一個顯示在頁面是給使用者看的，都存到一個記事本中當作圖片目錄"
   ]
  },
  {
   "cell_type": "markdown",
   "metadata": {},
   "source": [
    "### Step1. import 套件"
   ]
  },
  {
   "cell_type": "code",
   "execution_count": 3,
   "metadata": {},
   "outputs": [],
   "source": [
    "import json\n",
    "import requests\n",
    "from bs4 import BeautifulSoup\n",
    "\n",
    "# 把Warning訊息去掉\n",
    "requests.packages.urllib3.disable_warnings()"
   ]
  },
  {
   "cell_type": "markdown",
   "metadata": {},
   "source": [
    "### Step2. 將網頁Get下來"
   ]
  },
  {
   "cell_type": "code",
   "execution_count": 7,
   "metadata": {},
   "outputs": [],
   "source": [
    "# 設定proxy 在公司內需使用\n",
    "http_proxy = \"http://auhqproxy.corpnet.auo.com:8080/\"\n",
    "https_proxy = \"http://auhqproxy.corpnet.auo.com:8080/\"\n",
    "ftp_proxy = \"http://auhqproxy.corpnet.auo.com:8080/\"\n",
    "\n",
    "proxyDict = { \n",
    "              \"http\"  : http_proxy, \n",
    "              \"https\" : https_proxy, \n",
    "              \"ftp\"   : ftp_proxy\n",
    "            }\n",
    "            \n",
    "#r = requests.get(url, proxies=proxyDict, verify=False)"
   ]
  },
  {
   "cell_type": "code",
   "execution_count": 8,
   "metadata": {},
   "outputs": [],
   "source": [
    "# 要爬的網站\n",
    "url = \"https://www.dcard.tw/f/pet\""
   ]
  },
  {
   "cell_type": "code",
   "execution_count": 14,
   "metadata": {},
   "outputs": [],
   "source": [
    "catalog = open(\"./catalog.txt\",\"w\", encoding='UTF-8')\n",
    "\n",
    "rs = requests.Session()\n",
    "reressult = requests.get(url, proxies=proxyDict, verify=False)\n",
    "soup = BeautifulSoup(res.text, \"html.parser\")"
   ]
  },
  {
   "cell_type": "code",
   "execution_count": 15,
   "metadata": {},
   "outputs": [
    {
     "name": "stdout",
     "output_type": "stream",
     "text": [
      "[]\n"
     ]
    },
    {
     "ename": "IndexError",
     "evalue": "list index out of range",
     "output_type": "error",
     "traceback": [
      "\u001b[1;31m---------------------------------------------------------------------------\u001b[0m",
      "\u001b[1;31mIndexError\u001b[0m                                Traceback (most recent call last)",
      "\u001b[1;32m<ipython-input-15-6cecc4bd9377>\u001b[0m in \u001b[0;36m<module>\u001b[1;34m\u001b[0m\n\u001b[0;32m      4\u001b[0m \u001b[1;32mfor\u001b[0m \u001b[0ms\u001b[0m \u001b[1;32min\u001b[0m \u001b[0mtitle\u001b[0m\u001b[1;33m:\u001b[0m\u001b[1;33m\u001b[0m\u001b[1;33m\u001b[0m\u001b[0m\n\u001b[0;32m      5\u001b[0m     \u001b[0ma\u001b[0m\u001b[1;33m.\u001b[0m\u001b[0mappend\u001b[0m\u001b[1;33m(\u001b[0m\u001b[0ms\u001b[0m\u001b[1;33m[\u001b[0m\u001b[1;34m\"href\"\u001b[0m\u001b[1;33m]\u001b[0m\u001b[1;33m)\u001b[0m\u001b[1;33m\u001b[0m\u001b[1;33m\u001b[0m\u001b[0m\n\u001b[1;32m----> 6\u001b[1;33m \u001b[0murl\u001b[0m \u001b[1;33m=\u001b[0m \u001b[1;34m\"https://www.dcard.tw\"\u001b[0m\u001b[1;33m+\u001b[0m \u001b[0ma\u001b[0m\u001b[1;33m[\u001b[0m\u001b[1;36m2\u001b[0m\u001b[1;33m]\u001b[0m\u001b[1;33m\u001b[0m\u001b[1;33m\u001b[0m\u001b[0m\n\u001b[0m",
      "\u001b[1;31mIndexError\u001b[0m: list index out of range"
     ]
    }
   ],
   "source": [
    "title = soup.select(\"div.sc-f84e5b9-0 glcbH sc-d28862ca-7 eQLLAV\")\n",
    "print(title)\n",
    "a=[]\n",
    "for s in title:\n",
    "    a.append(s[\"href\"])\n",
    "url = \"https://www.dcard.tw\"+ a[2]"
   ]
  },
  {
   "cell_type": "code",
   "execution_count": null,
   "metadata": {},
   "outputs": [],
   "source": [
    "<article class=\"sc-d28862ca-0 doxKcW\" role=\"article\" data-post-list-viewed-cell-no=\"12\"><div class=\"sc-d28862ca-1 gBeeRK\"><div class=\"sc-f8de781-0 derHNk\"><div class=\"sc-f8de781-4 gJcnXV\"><div class=\"sc-2de01ce1-0 ivXwLo sc-f8de781-5 gxlypi\"><svg viewBox=\"0 0 40 40\" focusable=\"false\" width=\"16\" height=\"16\" class=\"sc-husrwi kZacXU\"><title>女</title><path fill=\"#F48FB1\" d=\"M40 20a20 20 0 1 1-40 0 20 20 0 0 1 40 0\"></path><path fill=\"#CB3A6B\" d=\"M28.7 17.5a9.6 9.6 0 0 0-1.4-4.4l.9-.6S25.5 6 17.9 7.3c-5.5 1-7.7 5.4-7.4 9C10.8 19.8 8.3 31 8.3 31l6.7 1.7a4.6 4.6 0 0 0-.7 1.1v.1a4.2 4.2 0 0 0-.4.8l-1.3 3.8a20 20 0 0 0 10.6 1.1L23 37c.4-2-.4-4-2-5 0-1.1 0-3 .5-3.1 3-.6 5.1-2.5 6.2-5.3.3.2.6.2 1 .2a1.5 1.5 0 0 0-.2-3c.1-1 .2-2.2 0-3.3z\"></path></svg></div></div><div class=\"sc-f8de781-1 kKqCFi\"><div class=\"sc-f8de781-2 cyItLB\"><div class=\"sc-f8de781-3 knlmhz\">臺北城市科技大學</div></div></div></div></div><h2 class=\"sc-d28862ca-2 hIGvco\"><a class=\"sc-d28862ca-3 jgxJuP\" href=\"/f/pet/p/238649882\"><span>新竹白橘底迪找家～</span></a></h2><div class=\"sc-9130b5d8-0 kBjZED\"><div class=\"sc-d28862ca-4 gXiXBU\"><span>這裡是一個等待回家的小底迪～-，性別：男森，顏色：白橘，年齡：兩個半月左右，-，是個活潑愛撒嬌的小朋友，希望有能力可以照顧他的朋友可以把他帶回家～這是背面的花色，-，放上IG～-</span></div></div><div class=\"sc-9130b5d8-1 frYRci\"><div class=\"sc-9130b5d8-2 fiTHir\"><div class=\"sc-3e2d29f8-0 ehhqvR\"><div class=\"sc-3e2d29f8-2 eazVQW\"><img src=\"https://megapx-assets.dcard.tw/images/52057289-337a-4f2f-88c0-cb8a77ee422a/orig.png\" title=\"愛心\" class=\"sc-3e2d29f8-1 dIiIxK\" style=\"z-index: 2;\"><img src=\"https://megapx-assets.dcard.tw/images/9a7cc9af-9f81-43ea-8d9b-968a6441ae51/orig.png\" title=\"哈哈\" class=\"sc-3e2d29f8-1 dIiIxK\" style=\"z-index: 1;\"></div><div class=\"sc-3e2d29f8-3 dvfUcw\">57</div></div></div><div class=\"sc-9130b5d8-2 fiTHir\"><div class=\"sc-9130b5d8-2 jhAuij\"><svg viewBox=\"0 0 24 24\" focusable=\"false\" role=\"img\" aria-hidden=\"true\" class=\"sc-husrwi kZacXU\"><path d=\"M1.333 12a10.667 10.667 0 1 0 21.334 0 10.667 10.667 0 1 0-21.334 0zM15.5 6.5h-7A3.5 3.5 0 0 0 5 10v3.5A3.5 3.5 0 0 0 8.5 17H9v1.369a.75.75 0 0 0 1.238.57L12.5 17h3a3.5 3.5 0 0 0 3.5-3.5V10a3.5 3.5 0 0 0-3.5-3.5Z\" fill-rule=\"evenodd\"></path></svg><span>24</span></div></div><div class=\"sc-9130b5d8-4 bCdXXh\"><div class=\"sc-9130b5d8-2 fiTHir\"><svg viewBox=\"0 0 24 24\" focusable=\"false\" role=\"img\" aria-hidden=\"true\" class=\"sc-husrwi kZacXU\"><path d=\"M17.65 21.39 12 17.5l-5.65 3.88A1.5 1.5 0 0 1 4 20.15V5a2.5 2.5 0 0 1 2.5-2.5h11A2.5 2.5 0 0 1 20 5v15.15a1.5 1.5 0 0 1-2.35 1.24z\"></path></svg><span>收藏</span></div></div></div><div class=\"sc-f84e5b9-0 glcbH sc-d28862ca-7 eQLLAV\" style=\"width: 84px; height: 84px;\"><img width=\"100%\" height=\"100%\" src=\"https://imgur.dcard.tw/g57HVSub.jpg\" loading=\"lazy\" referrerpolicy=\"no-referrer\" alt=\"\" class=\"sc-f84e5b9-1 cMISAz\"></div></article>"
   ]
  },
  {
   "cell_type": "code",
   "execution_count": null,
   "metadata": {},
   "outputs": [],
   "source": [
    "<img width=\"100%\" height=\"100%\" src=\"https://imgur.dcard.tw/jZNyzrwb.jpg\" loading=\"lazy\" referrerpolicy=\"no-referrer\" alt=\"\" class=\"sc-f84e5b9-1 cMISAz\">"
   ]
  },
  {
   "cell_type": "code",
   "execution_count": null,
   "metadata": {},
   "outputs": [],
   "source": [
    "<div class=\"sc-f84e5b9-0 glcbH sc-d28862ca-7 eQLLAV\" style=\"width: 84px; height: 84px;\"><img width=\"100%\" height=\"100%\" src=\"https://imgur.dcard.tw/jZNyzrwb.jpg\" loading=\"lazy\" referrerpolicy=\"no-referrer\" alt=\"\" class=\"sc-f84e5b9-1 cMISAz\"></div>"
   ]
  },
  {
   "cell_type": "code",
   "execution_count": null,
   "metadata": {},
   "outputs": [],
   "source": []
  }
 ],
 "metadata": {
  "kernelspec": {
   "display_name": "Python 3",
   "language": "python",
   "name": "python3"
  },
  "language_info": {
   "codemirror_mode": {
    "name": "ipython",
    "version": 3
   },
   "file_extension": ".py",
   "mimetype": "text/x-python",
   "name": "python",
   "nbconvert_exporter": "python",
   "pygments_lexer": "ipython3",
   "version": "3.7.3"
  }
 },
 "nbformat": 4,
 "nbformat_minor": 2
}
